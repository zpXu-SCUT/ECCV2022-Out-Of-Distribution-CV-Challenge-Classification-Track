{
 "cells": [
  {
   "cell_type": "code",
   "execution_count": 1,
   "metadata": {},
   "outputs": [],
   "source": [
    "import pandas as pd\n",
    "import numpy as np\n",
    "from scipy.special import softmax\n",
    "import json"
   ]
  },
  {
   "cell_type": "code",
   "execution_count": 2,
   "metadata": {},
   "outputs": [],
   "source": [
    "# 2nd round Pseudo-labeling  final best result\n",
    "convnext_path = \"../final_result/convnext_large_pseduo_5/final_logits.csv\"\n",
    "deit_path = \"../final_result/deit_large_384_bf_pseduo_5_epoch13/final_logits.csv\"\n",
    "volo_path = \"../final_result/volo_d5_512_second_8/final_logits.csv\""
   ]
  },
  {
   "cell_type": "code",
   "execution_count": null,
   "metadata": {},
   "outputs": [],
   "source": [
    "# # 1st round Pseudo-labeling\n",
    "# convnext_path = \"../final_result/convnext_large_pseduo_5/final_logits.csv\"\n",
    "# deit_path = \"../final_result/deit_large_384_bf_pseduo_5_epoch13/final_logits.csv\"\n",
    "# volo_path = \"../final_result/volo_d5_512/final_logits.csv\""
   ]
  },
  {
   "cell_type": "code",
   "execution_count": null,
   "metadata": {},
   "outputs": [],
   "source": [
    "# # No Pseudo-labeling\n",
    "# convnext_path = \"../final_result/convnext_large_224/final_logits.csv\"\n",
    "# deit_path = \"../final_result/deit_large_384_bf/final_logits.csv\"\n",
    "# volo_path = \"../final_result/volo_d5_512/final_logits.csv\""
   ]
  },
  {
   "cell_type": "code",
   "execution_count": 3,
   "metadata": {},
   "outputs": [],
   "source": [
    "convnext_data = pd.read_csv(convnext_path)\n",
    "deit_data = pd.read_csv(deit_path)    \n",
    "volo_data = pd.read_csv(volo_path)    "
   ]
  },
  {
   "cell_type": "code",
   "execution_count": 4,
   "metadata": {},
   "outputs": [],
   "source": [
    "weight1 = 0.35\n",
    "weight2 = 0.3\n",
    "weight3 = 0.35"
   ]
  },
  {
   "cell_type": "code",
   "execution_count": 5,
   "metadata": {},
   "outputs": [],
   "source": [
    "mix_logits = weight3 * np.array(convnext_data.iloc[:, 1:])+weight1* np.array(deit_data.iloc[:, 1:])+weight2* np.array(volo_data.iloc[:, 1:])\n",
    "pre_label = np.argmax(mix_logits,axis=1)\n",
    "\n",
    "submit = pd.DataFrame()\n",
    "# ObservationId,ClassId\n",
    "submit['imgs'] = convnext_data['imgs']\n",
    "submit['pred'] = pre_label\n",
    "class_to_index_reverse = {0:'aeroplane',1:'bicycle',2:'boat',3:'bus',4:'car',5:'chair',6:'diningtable',7:'motorbike',8:'sofa',9:'train'}\n",
    "submit['pred'] = submit['pred'].map(class_to_index_reverse)\n",
    "\n",
    "#submit.to_csv('../final_result/best_result/results.csv', index=False, header=True)"
   ]
  },
  {
   "cell_type": "code",
   "execution_count": 8,
   "metadata": {},
   "outputs": [
    {
     "name": "stdout",
     "output_type": "stream",
     "text": [
      "change:  543\n"
     ]
    }
   ],
   "source": [
    "# Modify the label by the aspect ratio. Smaller means taller and shorter, more like chair\n",
    "\n",
    "best_det = \"../cascade_rcnn_r50_fpn_1x_coco_backbone_convnextLarge_OnlyAdamW_cos_colorjitter_softmax_corrupt_073_final_cls/cla_final.json\"\n",
    "\n",
    "mix_logits = weight3 * np.array(convnext_data.iloc[:, 1:])+weight1* np.array(deit_data.iloc[:, 1:])+weight2* np.array(volo_data.iloc[:, 1:])\n",
    "#mix_logits = weight * softmax(np.array(convnext_ood_list[k].iloc[:, 2:]),axis=1)  +(1-weight)* softmax(np.array(deit_ood_list[k].iloc[:, 2:]),axis=1)\n",
    "pre_label = np.argmax(mix_logits,axis=1)\n",
    "\n",
    "soft_max_logits = softmax(mix_logits,axis=1)\n",
    "submit = pd.DataFrame()\n",
    "# ObservationId,ClassId\n",
    "submit['imgs'] = convnext_data['imgs']\n",
    "submit['pred'] = pre_label\n",
    "group_scores = pd.concat([submit['imgs'], submit['pred'], pd.DataFrame(mix_logits)], axis=1)\n",
    "\n",
    "# index_to_class = {0:'aeroplane',1:'bicycle',2:'boat',3:'bus',4:'car',5:'chair',6:'diningtable',7:'motorbike',8:'sofa',9:'train'}\n",
    "        \n",
    "# pred:bicycle change:chair\n",
    "bicycle_data = group_scores[group_scores['pred'] == 1]\n",
    "for item in bicycle_data.iterrows():\n",
    "    if item[1][5] * 1.8 > item[1][1]:\n",
    "        submit.loc[item[0],'pred'] = 5\n",
    "\n",
    "#pred trian; change bus\n",
    "# baseline: OOD 0.11499 IID 0.3214→0.3212\n",
    "train_data = group_scores[group_scores['pred'] == 9]\n",
    "for item in train_data.iterrows():\n",
    "    if item[1][3] * 1.1 > item[1][9]:\n",
    "        submit.loc[item[0],'pred'] = 1\n",
    "\n",
    "#pred: boat; change: bus\n",
    "boat_data = group_scores[group_scores['pred'] == 2]  \n",
    "for item in boat_data.iterrows():\n",
    "        if item[1][3]* 1.5 >item[1][2]:  # 1.5\n",
    "                #print(item[1]['imgs'])\n",
    "                submit.loc[item[0],'pred'] = 3\n",
    "                \n",
    "#pred: diningtable; change: chair\n",
    "diningtable_data = group_scores[group_scores['pred'] == 6] \n",
    "for item in diningtable_data.iterrows():\n",
    "        if item[1][5]* 1.3 >item[1][6]: # 1.3\n",
    "                submit.loc[item[0],'pred']=5\n",
    "\n",
    "#pred: sofa; change: chair\n",
    "sofa_data = group_scores[group_scores['pred'] == 8] \n",
    "for item in sofa_data.iterrows():\n",
    "        if item[1][5]* 2.0 >item[1][8]:\n",
    "                submit.loc[item[0],'pred']= 5\n",
    " \n",
    "#pred: car; change: bus\n",
    "car_data = group_scores[group_scores['pred'] == 4]\n",
    "for item in car_data.iterrows():\n",
    "        if item[1][3]* 1.5 >item[1][4]: \n",
    "                submit.loc[item[0],'pred']= 3\n",
    "\n",
    "# pred:motorbike change:car\n",
    "motorbike_data = group_scores[group_scores['pred'] == 7]\n",
    "for item in motorbike_data.iterrows():\n",
    "        if item[1][4] * 1.3 > item[1][7]:\n",
    "                submit.loc[item[0],'pred']= 4\n",
    "\n",
    "# Adjust chair and sofa according to aspect ratio\n",
    "sofa_data = group_scores[submit['pred'] == 8]\n",
    "f=open(best_det)\n",
    "data=json.load(f)\n",
    "for item in sofa_data.iterrows():\n",
    "        name_list = item[1]['imgs'].split('.')\n",
    "        name = name_list[0]\n",
    "        #print(name)\n",
    "        #print(item[1]['label'])\n",
    "        for onedata in data:\n",
    "                if onedata['image_id'] == name:\n",
    "                        #print(onedata)\n",
    "                        if onedata['bbox'][2]/onedata['bbox'][3] < .6 : # setting 0.6\n",
    "                                submit.loc[item[0],'pred']=5\n",
    "                                \n",
    "                        break\n",
    "\n",
    "        # print(item[1]['label'])\n",
    "        # print(item[1]['pred'])\n",
    "all_num = 0\n",
    "for num in submit['pred'] - pre_label :\n",
    "        if num == 0:\n",
    "                all_num+=1\n",
    "class_to_index_reverse = {0:'aeroplane',1:'bicycle',2:'boat',3:'bus',4:'car',5:'chair',6:'diningtable',7:'motorbike',8:'sofa',9:'train'}\n",
    "submit['pred'] = submit['pred'].map(class_to_index_reverse)\n",
    "\n",
    "submit.to_csv('../final_result/best_result/bbox_results.csv', index=False, header=True)\n",
    "print(\"change: \",len(submit) - all_num)"
   ]
  },
  {
   "cell_type": "code",
   "execution_count": 9,
   "metadata": {},
   "outputs": [],
   "source": [
    "# Get the best result\n",
    "submit.to_csv('../final_result/best_result/results.csv', index=False, header=True)"
   ]
  },
  {
   "cell_type": "code",
   "execution_count": null,
   "metadata": {},
   "outputs": [],
   "source": []
  },
  {
   "cell_type": "code",
   "execution_count": 13,
   "metadata": {},
   "outputs": [
    {
     "data": {
      "text/plain": [
       "10202"
      ]
     },
     "execution_count": 13,
     "metadata": {},
     "output_type": "execute_result"
    }
   ],
   "source": [
    "# # Save the image with high confidence as pseudo label\n",
    "# class_to_index_reverse = {'aeroplane':0,'bicycle':1,'boat':2,'bus':3,'car':4,'chair':5,'diningtable':6,'motorbike':7,'sofa':8,'train':9}\n",
    "\n",
    "# group_scores = pd.concat([submit['imgs'], submit['pred'], pd.DataFrame(soft_max_logits)], axis=1)\n",
    "\n",
    "# num_th = 0\n",
    "\n",
    "# pseudo_label = pd.DataFrame()\n",
    "\n",
    "# for key,value in group_scores.iterrows(): \n",
    "#     confi = value[class_to_index_reverse[value['pred']]]\n",
    "#     #print(value)\n",
    "#     #print(value)\n",
    "#     if confi > 0.8:\n",
    "#         num_th +=1 \n",
    "#         pseudo_label = pd.concat([pseudo_label,value],axis=1)\n",
    "    \n",
    "    \n",
    "# num_th\n",
    "\n",
    "# pseudo_label.T.to_csv('../../data/pseudo/second_confi_8.csv',index =None)"
   ]
  },
  {
   "cell_type": "code",
   "execution_count": 39,
   "metadata": {},
   "outputs": [],
   "source": []
  },
  {
   "cell_type": "code",
   "execution_count": null,
   "metadata": {},
   "outputs": [],
   "source": []
  }
 ],
 "metadata": {
  "kernelspec": {
   "display_name": "Python 3.8.5 ('lkd22')",
   "language": "python",
   "name": "python3"
  },
  "language_info": {
   "codemirror_mode": {
    "name": "ipython",
    "version": 3
   },
   "file_extension": ".py",
   "mimetype": "text/x-python",
   "name": "python",
   "nbconvert_exporter": "python",
   "pygments_lexer": "ipython3",
   "version": "3.8.5"
  },
  "orig_nbformat": 4,
  "vscode": {
   "interpreter": {
    "hash": "db61d63db2f74d76b6b380db49779de52de834e45f2a4c164e259a0a73cc0a92"
   }
  }
 },
 "nbformat": 4,
 "nbformat_minor": 2
}
